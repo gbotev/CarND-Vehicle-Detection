{
 "cells": [
  {
   "cell_type": "markdown",
   "metadata": {},
   "source": [
    "## 0. First of all - define all the functions and import libraries"
   ]
  },
  {
   "cell_type": "code",
   "execution_count": 4,
   "metadata": {
    "collapsed": false,
    "deletable": true,
    "editable": true
   },
   "outputs": [],
   "source": [
    "#Base step: Reuse and tweak the code from Lesson 34.\n",
    "import matplotlib.image as mpimg\n",
    "import matplotlib.pyplot as plt\n",
    "import numpy as np\n",
    "import cv2\n",
    "import glob\n",
    "import time\n",
    "from sklearn import svm\n",
    "#from sklearn.svm import LinearSVC\n",
    "from sklearn.preprocessing import StandardScaler\n",
    "from skimage.feature import hog\n",
    "# NOTE: the next import is only valid for scikit-learn version <= 0.17\n",
    "# for scikit-learn >= 0.18 use:\n",
    "from sklearn.model_selection import train_test_split\n",
    "#from sklearn.cross_validation import train_test_split\n",
    "from scipy.ndimage.measurements import label\n",
    "from sklearn.externals import joblib\n",
    "\n",
    "# Define a function to return HOG features and visualization\n",
    "def get_hog_features(img, orient, pix_per_cell, cell_per_block, \n",
    "                        vis=False, feature_vec=True):\n",
    "    # Call with two outputs if vis==True\n",
    "    if vis == True:\n",
    "        features, hog_image = hog(img, orientations=orient, \n",
    "                                  pixels_per_cell=(pix_per_cell, pix_per_cell),\n",
    "                                  cells_per_block=(cell_per_block, cell_per_block), \n",
    "                                  transform_sqrt=True, \n",
    "                                  visualise=vis, feature_vector=feature_vec)\n",
    "        return features, hog_image\n",
    "    # Otherwise call with one output\n",
    "    else:      \n",
    "        features = hog(img, orientations=orient, \n",
    "                       pixels_per_cell=(pix_per_cell, pix_per_cell),\n",
    "                       cells_per_block=(cell_per_block, cell_per_block), \n",
    "                       transform_sqrt=True, \n",
    "                       visualise=vis, feature_vector=feature_vec)\n",
    "        #print(img.shape, orient, pix_per_cell, len(features))\n",
    "        return features\n",
    "\n",
    "# Define a function to compute binned color features  \n",
    "def bin_spatial(img, size=(32, 32)):\n",
    "    # Use cv2.resize().ravel() to create the feature vector\n",
    "    features = cv2.resize(img, size).ravel() \n",
    "    # Return the feature vector\n",
    "    return features\n",
    "\n",
    "# Define a function to compute color histogram features \n",
    "# NEED TO CHANGE bins_range if reading .png files with mpimg!\n",
    "def color_hist(img, nbins=32, bins_range=(0, 256)):\n",
    "    # Compute the histogram of the color channels separately\n",
    "    channel1_hist = np.histogram(img[:,:,0], bins=nbins, range=bins_range)\n",
    "    channel2_hist = np.histogram(img[:,:,1], bins=nbins, range=bins_range)\n",
    "    channel3_hist = np.histogram(img[:,:,2], bins=nbins, range=bins_range)\n",
    "    # Concatenate the histograms into a single feature vector\n",
    "    hist_features = np.concatenate((channel1_hist[0], channel2_hist[0], channel3_hist[0]))\n",
    "    # Return the individual histograms, bin_centers and feature vector\n",
    "    return hist_features\n",
    "\n",
    "# Define a function to extract features from a list of images\n",
    "# Have this function call bin_spatial() and color_hist()\n",
    "def extract_features(imgs, color_space='RGB', resize=None, spatial_size=(32, 32),\n",
    "                        hist_bins=32, orient=9, \n",
    "                        pix_per_cell=8, cell_per_block=2, hog_channel=0,\n",
    "                        spatial_feat=True, hist_feat=True, hog_feat=True, flip=None):\n",
    "    # Create a list to append feature vectors to\n",
    "    features = []\n",
    "    # Iterate through the list of images\n",
    "    for file in imgs:\n",
    "        # Read in each one by one\n",
    "        #image = mpimg.imread(file)\n",
    "        image = cv2.imread(file)\n",
    "        if resize != None:\n",
    "            image = cv2.resize(image, resize)\n",
    "        image = cv2.cvtColor(image, cv2.COLOR_BGR2RGB)\n",
    "        # apply color conversion if other than 'RGB'\n",
    "        if color_space != 'RGB':\n",
    "            if color_space == 'HSV':\n",
    "                feature_image = cv2.cvtColor(image, cv2.COLOR_RGB2HSV)\n",
    "            elif color_space == 'LUV':\n",
    "                feature_image = cv2.cvtColor(image, cv2.COLOR_RGB2LUV)\n",
    "            elif color_space == 'HLS':\n",
    "                feature_image = cv2.cvtColor(image, cv2.COLOR_RGB2HLS)\n",
    "            elif color_space == 'YUV':\n",
    "                feature_image = cv2.cvtColor(image, cv2.COLOR_RGB2YUV)\n",
    "            elif color_space == 'YCrCb':\n",
    "                feature_image = cv2.cvtColor(image, cv2.COLOR_RGB2YCrCb)\n",
    "        else: feature_image = np.copy(image) \n",
    "        \n",
    "        #flip the images to obtain more data\n",
    "        file_features = []\n",
    "        if flip != None:\n",
    "            #car = 1 -> flip left to right, car = 0 flip up to down\n",
    "            feature_image = cv2.flip(feature_image, flip)\n",
    "        if len(features) == 0:\n",
    "            #if first image show an example\n",
    "            plt.imshow(cv2.cvtColor(feature_image, cv2.COLOR_YCrCb2RGB))\n",
    "            plt.show()\n",
    "        if spatial_feat == True:\n",
    "            spatial_features = bin_spatial(feature_image, size=spatial_size)\n",
    "            file_features.append(spatial_features)\n",
    "            #print(\"spatial features:\", spatial_features.shape)\n",
    "        if hist_feat == True:\n",
    "            # Apply color_hist()\n",
    "            hist_features = color_hist(feature_image, nbins=hist_bins)\n",
    "            file_features.append(hist_features)\n",
    "            #print(\"hist features:\", hist_features.shape)\n",
    "        if hog_feat == True:\n",
    "        # Call get_hog_features() with vis=False, feature_vec=True\n",
    "            if hog_channel == 'ALL':\n",
    "                hog_features = []\n",
    "                for channel in range(feature_image.shape[2]):\n",
    "                    hog_features.append(get_hog_features(feature_image[:,:,channel], \n",
    "                                        orient, pix_per_cell, cell_per_block, \n",
    "                                        vis=False, feature_vec=True))\n",
    "                hog_features = np.ravel(hog_features)        \n",
    "            else:\n",
    "                hog_features = get_hog_features(feature_image[:,:,hog_channel], orient, \n",
    "                            pix_per_cell, cell_per_block, vis=False, feature_vec=True)\n",
    "            # Append the new feature vector to the features list\n",
    "            file_features.append(hog_features)\n",
    "            #print(\"hog features:\", hog_features.shape)\n",
    "        features.append(np.concatenate(file_features))\n",
    "    # Return list of feature vectors\n",
    "    return features\n",
    "    \n",
    "# Define a function that takes an image,\n",
    "# start and stop positions in both x and y, \n",
    "# window size (x and y dimensions),  \n",
    "# and overlap fraction (for both x and y)\n",
    "def slide_window(img, x_start_stop=[None, None], y_start_stop=[None, None], \n",
    "                    xy_window=(64, 64), xy_overlap=(0.5, 0.5)):\n",
    "    # If x and/or y start/stop positions not defined, set to image size\n",
    "    if x_start_stop[0] == None:\n",
    "        x_start_stop[0] = 0\n",
    "    if x_start_stop[1] == None:\n",
    "        x_start_stop[1] = img.shape[1]\n",
    "    if y_start_stop[0] == None:\n",
    "        y_start_stop[0] = 0\n",
    "    if y_start_stop[1] == None:\n",
    "        y_start_stop[1] = img.shape[0]\n",
    "    # Compute the span of the region to be searched    \n",
    "    xspan = x_start_stop[1] - x_start_stop[0]\n",
    "    yspan = y_start_stop[1] - y_start_stop[0]\n",
    "    # Compute the number of pixels per step in x/y\n",
    "    nx_pix_per_step = np.int(xy_window[0]*(1 - xy_overlap[0]))\n",
    "    ny_pix_per_step = np.int(xy_window[1]*(1 - xy_overlap[1]))\n",
    "    # Compute the number of windows in x/y\n",
    "    nx_buffer = np.int(xy_window[0]*(xy_overlap[0]))\n",
    "    ny_buffer = np.int(xy_window[1]*(xy_overlap[1]))\n",
    "    nx_windows = np.int((xspan-nx_buffer)/nx_pix_per_step) \n",
    "    ny_windows = np.int((yspan-ny_buffer)/ny_pix_per_step) \n",
    "    # Initialize a list to append window positions to\n",
    "    window_list = []\n",
    "    # Loop through finding x and y window positions\n",
    "    # Note: you could vectorize this step, but in practice\n",
    "    # you'll be considering windows one by one with your\n",
    "    # classifier, so looping makes sense\n",
    "    for ys in range(ny_windows):\n",
    "        for xs in range(nx_windows):\n",
    "            # Calculate window position\n",
    "            startx = xs*nx_pix_per_step + x_start_stop[0]\n",
    "            endx = startx + xy_window[0]\n",
    "            starty = ys*ny_pix_per_step + y_start_stop[0]\n",
    "            endy = starty + xy_window[1]\n",
    "            \n",
    "            # Append window position to list\n",
    "            window_list.append(((startx, starty), (endx, endy)))\n",
    "    # Return the list of windows\n",
    "    return window_list\n",
    "\n",
    "# Define a function to draw bounding boxes\n",
    "def draw_boxes(img, bboxes, color=(0, 0, 255), thick=6):\n",
    "    # Make a copy of the image\n",
    "    imcopy = np.copy(img)\n",
    "    # Iterate through the bounding boxes\n",
    "    for bbox in bboxes:\n",
    "        # Draw a rectangle given bbox coordinates\n",
    "        cv2.rectangle(imcopy, bbox[0], bbox[1], color, thick)\n",
    "    # Return the image copy with boxes drawn\n",
    "    return imcopy\n",
    "\n",
    "\n",
    "# Define a function to extract features from a single image window\n",
    "# This function is very similar to extract_features()\n",
    "# just for a single image rather than list of images\n",
    "def single_img_features(img, color_space='RGB', spatial_size=(32, 32),\n",
    "                        hist_bins=32, orient=9, \n",
    "                        pix_per_cell=8, cell_per_block=2, hog_channel=0,\n",
    "                        spatial_feat=True, hist_feat=True, hog_feat=True):    \n",
    "    #1) Define an empty list to receive features\n",
    "    img_features = []\n",
    "    #2) Apply color conversion if other than 'RGB'\n",
    "    if color_space != 'RGB':\n",
    "        if color_space == 'HSV':\n",
    "            feature_image = cv2.cvtColor(img, cv2.COLOR_RGB2HSV)\n",
    "        elif color_space == 'LUV':\n",
    "            feature_image = cv2.cvtColor(img, cv2.COLOR_RGB2LUV)\n",
    "        elif color_space == 'HLS':\n",
    "            feature_image = cv2.cvtColor(img, cv2.COLOR_RGB2HLS)\n",
    "        elif color_space == 'YUV':\n",
    "            feature_image = cv2.cvtColor(img, cv2.COLOR_RGB2YUV)\n",
    "        elif color_space == 'YCrCb':\n",
    "            feature_image = cv2.cvtColor(img, cv2.COLOR_RGB2YCrCb)\n",
    "    else: feature_image = np.copy(img)      \n",
    "    #3) Compute spatial features if flag is set\n",
    "    if spatial_feat == True:\n",
    "        spatial_features = bin_spatial(feature_image, size=spatial_size)\n",
    "        #4) Append features to list\n",
    "        img_features.append(spatial_features)\n",
    "        #print('spatial feat', len(spatial_features), spatial_features)\n",
    "    #5) Compute histogram features if flag is set\n",
    "    if hist_feat == True:\n",
    "        hist_features = color_hist(feature_image, nbins=hist_bins)\n",
    "        #6) Append features to list\n",
    "        img_features.append(hist_features)\n",
    "        #print('hist', len(hist_features))\n",
    "    #7) Compute HOG features if flag is set\n",
    "    if hog_feat == True:\n",
    "        if hog_channel == 'ALL':\n",
    "            hog_features = []\n",
    "            for channel in range(feature_image.shape[2]):\n",
    "                hog_features.extend(get_hog_features(feature_image[:,:,channel], \n",
    "                                    orient, pix_per_cell, cell_per_block, \n",
    "                                    vis=False, feature_vec=True))      \n",
    "        else:\n",
    "            hog_features = get_hog_features(feature_image[:,:,hog_channel], orient, \n",
    "                        pix_per_cell, cell_per_block, vis=False, feature_vec=True)\n",
    "        #8) Append features to list\n",
    "        #print('hogs', len(hog_features))\n",
    "        img_features.append(hog_features)\n",
    "\n",
    "    #9) Return concatenated array of features\n",
    "    return np.concatenate(img_features)\n",
    "\n",
    "# Define a function you will pass an image \n",
    "# and the list of windows to be searched (output of slide_windows())\n",
    "def search_windows(img, target_size, windows, clf, scaler, color_space='RGB', \n",
    "                    spatial_size=(32, 32), hist_bins=32, \n",
    "                    hist_range=(0, 256), orient=9, \n",
    "                    pix_per_cell=8, cell_per_block=2, \n",
    "                    hog_channel=0, spatial_feat=True, \n",
    "                    hist_feat=True, hog_feat=True):\n",
    "\n",
    "    #1) Create an empty list to receive positive detection windows\n",
    "    on_windows = []\n",
    "    #2) Iterate over all windows in the list\n",
    "    for window in windows:\n",
    "        #3) Extract the test window from original image\n",
    "        test_img = cv2.resize(img[window[0][1]:window[1][1], window[0][0]:window[1][0]], target_size)      \n",
    "        #4) Extract features for that window using single_img_features()\n",
    "        features = single_img_features(test_img, color_space=color_space, \n",
    "                            spatial_size=spatial_size, hist_bins=hist_bins, \n",
    "                            orient=orient, pix_per_cell=pix_per_cell, \n",
    "                            cell_per_block=cell_per_block, \n",
    "                            hog_channel=hog_channel, spatial_feat=spatial_feat, \n",
    "                            hist_feat=hist_feat, hog_feat=hog_feat)\n",
    "        #5) Scale extracted features to be fed to classifier\n",
    "        test_features = scaler.transform(np.array(features).reshape(1, -1))\n",
    "        #6) Predict using your classifier\n",
    "        prediction = clf.predict(test_features)\n",
    "        #7) If positive (prediction == 1) then save the window\n",
    "        if prediction == 1:\n",
    "            on_windows.append(window)\n",
    "    #8) Return windows for positive detections\n",
    "    return on_windows\n",
    "    \n",
    "def add_heat(heatmap, bbox_list):\n",
    "    # Iterate through list of bboxes\n",
    "    for box in bbox_list:\n",
    "        # Add += 1 for all pixels inside each bbox\n",
    "        # Assuming each \"box\" takes the form ((x1, y1), (x2, y2))\n",
    "        heatmap[box[0][1]:box[1][1], box[0][0]:box[1][0]] += 1\n",
    "\n",
    "    # Return updated heatmap\n",
    "    return heatmap# Iterate through list of bboxes\n",
    "    \n",
    "def apply_threshold(heatmap, threshold):\n",
    "    # Zero out pixels below the threshold\n",
    "    heatmap[heatmap <= int(threshold)] = 0\n",
    "    # Return thresholded map\n",
    "    return heatmap\n",
    "\n",
    "def draw_labeled_bboxes(img, labels):\n",
    "    # Iterate through all detected cars\n",
    "    for car_number in range(1, labels[1]+1):\n",
    "        # Find pixels with each car_number label value\n",
    "        nonzero = (labels[0] == car_number).nonzero()\n",
    "        # Identify x and y values of those pixels\n",
    "        nonzeroy = np.array(nonzero[0])\n",
    "        nonzerox = np.array(nonzero[1])\n",
    "        # Define a bounding box based on min/max x and y\n",
    "        bbox = ((np.min(nonzerox), np.min(nonzeroy)), (np.max(nonzerox), np.max(nonzeroy)))\n",
    "        # Draw the box on the image\n",
    "        cv2.rectangle(img, bbox[0], bbox[1], (0,0,255), 2)\n",
    "    # Return the image\n",
    "    return img\n",
    "\n",
    "\n"
   ]
  },
  {
   "cell_type": "markdown",
   "metadata": {},
   "source": [
    "### 0.1 This is the pipeline for searching cars within an image"
   ]
  },
  {
   "cell_type": "code",
   "execution_count": 5,
   "metadata": {
    "collapsed": false
   },
   "outputs": [],
   "source": [
    "def find_car_pipeline(image, color_space, svc, X_scaler\n",
    "              , spatial_size, hist_bins, orient, pix_per_cell, cell_per_block, hog_channel\n",
    "              , spatial_feat, hist_feat, hog_feat\n",
    "              , resize=None, x_start_stop = [None, None], y_start_stop=[None, None]\n",
    "              , search_scales=[64, 128], xy_overlap=(0.5, 0.5), train_image_size=(32, 32)\n",
    "              , heat_threshold=0, windows=None, last_hot_windows=None):\n",
    "    #resize to speed up\n",
    "    if resize == None:\n",
    "        resized_image = np.copy(image)\n",
    "    else:\n",
    "        resized_image = cv2.resize(image, resize)\n",
    "\n",
    "    #Add the possibility to give historical windows\n",
    "    if windows == None:\n",
    "        windows = []\n",
    "        for d in search_scales:\n",
    "            windows_temp = slide_window(resized_image, x_start_stop=x_start_stop, y_start_stop=y_start_stop, \n",
    "                                xy_window=(d, d), xy_overlap=xy_overlap)\n",
    "            windows += windows_temp\n",
    "\n",
    "    hot_windows = search_windows(resized_image, train_image_size, windows, svc, X_scaler, color_space=color_space, \n",
    "                            spatial_size=spatial_size, hist_bins=hist_bins, \n",
    "                            orient=orient, pix_per_cell=pix_per_cell, \n",
    "                            cell_per_block=cell_per_block, \n",
    "                            hog_channel=hog_channel, spatial_feat=spatial_feat, \n",
    "                            hist_feat=hist_feat, hog_feat=hog_feat)                       \n",
    "\n",
    "    heat = np.zeros_like(resized_image[:,:,0]).astype(np.float)\n",
    "\n",
    "    # Add heat to each box in box list\n",
    "    if last_hot_windows != None:\n",
    "        last_hot_windows += hot_windows\n",
    "        heat = add_heat(heat, last_hot_windows)\n",
    "    else:\n",
    "        heat = add_heat(heat, hot_windows)\n",
    "\n",
    "    # Apply threshold to help remove false positives\n",
    "    heat = apply_threshold(heat, heat_threshold)\n",
    "\n",
    "    # Visualize the heatmap when displaying    \n",
    "    heatmap = np.clip(heat, 0, 255)\n",
    "\n",
    "    # Find final boxes from heatmap using label function\n",
    "    labels = label(heatmap)\n",
    "    draw_img = draw_labeled_bboxes(resized_image, labels)\n",
    "    \n",
    "    return cv2.resize(draw_img, (image.shape[1], image.shape[0])), labels, windows, hot_windows"
   ]
  },
  {
   "cell_type": "markdown",
   "metadata": {},
   "source": [
    "### 0.2 This function would be used with previous function in videos\n",
    "\n",
    "Here we include accross the frames windows memory and speedups"
   ]
  },
  {
   "cell_type": "code",
   "execution_count": 6,
   "metadata": {
    "collapsed": true
   },
   "outputs": [],
   "source": [
    "def record_video(video, output_video\n",
    "        , color_space, svc, X_scaler\n",
    "        , spatial_size, hist_bins, orient, pix_per_cell, cell_per_block, hog_channel\n",
    "        , spatial_feat, hist_feat, hog_feat\n",
    "        , resize, x_start_stop, y_start_stop\n",
    "        , search_scales, xy_overlap, train_image_size\n",
    "        , heat_threshold, frame_memory_length):\n",
    "    cap = cv2.VideoCapture(video)\n",
    "    #get fps\n",
    "    fps = cap.get(cv2.CAP_PROP_FPS)\n",
    "    print(fps)\n",
    "    length = int(cap.get(cv2.CAP_PROP_FRAME_COUNT))\n",
    "    # get frame size\n",
    "    # image dimensions\n",
    "    #x_size = im.shape[1]\n",
    "    #y_size = im.shape[0]\n",
    "    x_size = int(cap.get(cv2.CAP_PROP_FRAME_WIDTH))   # float\n",
    "    y_size = int(cap.get(cv2.CAP_PROP_FRAME_HEIGHT)) # float\n",
    "    #print(x_size, y_size, '@', fps)\n",
    "\n",
    "    # Define the codec and create VideoWriter object\n",
    "    # h264 not available for ipython on my machine -> \n",
    "    # would convert later using moviepy\n",
    "    fourcc = cv2.VideoWriter_fourcc(*'XVID')\n",
    "    out = cv2.VideoWriter(output_video, fourcc, int(fps), (int(x_size), int(y_size)))\n",
    "    counter = 0\n",
    "    t0 = time.clock()\n",
    "    \n",
    "    array_hot_windows = [] #this would keep track of the windows where we found cars\n",
    "    \n",
    "    windows = [] #this would keep the search windows positions in memory instead of generating them each time\n",
    "\n",
    "    while(cap.isOpened()):\n",
    "        ret, frame = cap.read()\n",
    "        if ret == True:\n",
    "            #convert to rgb\n",
    "            frame = cv2.cvtColor(frame, cv2.COLOR_BGR2RGB)\n",
    "            if len(array_hot_windows) == 0:\n",
    "                #if it is the first frame\n",
    "                boxes, labels, windows, hot_windows = find_car_pipeline(image=frame, color_space=color_space, svc=svc, X_scaler=X_scaler\n",
    "                  , spatial_size=spatial_size, hist_bins=hist_bins, orient=orient, pix_per_cell=pix_per_cell, cell_per_block=cell_per_block, hog_channel=hog_channel\n",
    "                  , spatial_feat=spatial_feat, hist_feat=hist_feat, hog_feat=hog_feat\n",
    "                  , resize=resize, x_start_stop=x_start_stop, y_start_stop=y_start_stop\n",
    "                  , search_scales=search_scales, xy_overlap=xy_overlap, train_image_size=train_size\n",
    "                  , heat_threshold=heat_threshold, windows=None, last_hot_windows=None)\n",
    "                array_hot_windows.append(hot_windows)\n",
    "                \n",
    "            else:\n",
    "                last_hot_windows = [win for win_arr in array_hot_windows for win in win_arr]\n",
    "                boxes, labels, windows, hot_windows = find_car_pipeline(image=frame, color_space=color_space, svc=svc, X_scaler=X_scaler\n",
    "                  , spatial_size=spatial_size, hist_bins=hist_bins, orient=orient, pix_per_cell=pix_per_cell, cell_per_block=cell_per_block, hog_channel=hog_channel\n",
    "                  , spatial_feat=spatial_feat, hist_feat=hist_feat, hog_feat=hog_feat\n",
    "                  , resize=resize, x_start_stop=x_start_stop, y_start_stop=y_start_stop\n",
    "                  , search_scales=search_scales, xy_overlap=xy_overlap, train_image_size=train_size\n",
    "                  , heat_threshold=heat_threshold*len(array_hot_windows), windows=windows, last_hot_windows=last_hot_windows)         \n",
    "                if len(array_hot_windows) == frame_memory_length:\n",
    "                    #if we have acquired enough frames\n",
    "                    array_hot_windows = array_hot_windows[1:]                     \n",
    "                array_hot_windows.append(hot_windows)  \n",
    "\n",
    "            # write the flipped frame\n",
    "            if counter%(int(length/10)) == 0:\n",
    "                print(counter/length, (time.clock()-t0), \"seconds\")\n",
    "                \n",
    "            #plt.imshow(frame)\n",
    "            #plt.show()\n",
    "            #cv2.waitKey(10)\n",
    "            counter += 1\n",
    "            frame = cv2.cvtColor(boxes, cv2.COLOR_RGB2BGR)\n",
    "            out.write(frame)\n",
    "        else:\n",
    "            break\n",
    "\n",
    "    # Release everything if job is finished\n",
    "    cap.release()\n",
    "    out.release()\n",
    "    #cv2.destroyAllWindows()"
   ]
  },
  {
   "cell_type": "markdown",
   "metadata": {},
   "source": [
    "## 1. Define all the parameters"
   ]
  },
  {
   "cell_type": "code",
   "execution_count": 7,
   "metadata": {
    "collapsed": false
   },
   "outputs": [],
   "source": [
    "#PARAMS\n",
    "# All parameters are defined here\n",
    "\n",
    "sample_size = None\n",
    "\n",
    "color_space = 'YCrCb' # Can be RGB, HSV, LUV, HLS, YUV, YCrCb\n",
    "train_size = (32, 32)\n",
    "orient = 8  # HOG orientations 16\n",
    "pix_per_cell = 8 # HOG pixels per cell\n",
    "cell_per_block = 2 # HOG cells per block # 2\n",
    "hog_channel = \"ALL\" # Can be 0, 1, 2, or \"ALL\" ## \"ALL\" \n",
    "# total features orient*(x - pix_per_cell + 1 - cell_per_block + 1) / (cell_per_block))*(y - pix_per_cel + 1 - cell_per_block + 1)/(cell_per_block)) * 3\n",
    "spatial_size = (16, 16) # Spatial binning dimensions (16, 16) \n",
    "#total features x*y*3\n",
    "hist_bins = 32    # Number of histogram bins 32 \n",
    "#total features n\n",
    "spatial_feat = True # Spatial features on or off #False\n",
    "# try them off for better hog performance\n",
    "hist_feat = True # Histogram features on or off #False\n",
    "hog_feat = True # HOG features on or off\n",
    "svc_C = 0.1 #0.1\n",
    "xy_overlap=(0.5, 0.5)\n",
    "resize = (320, 180)\n",
    "x_start_stop = [None, None]\n",
    "#y_start_stop = [int(0.555*image.shape[0]), 10*int(image.shape[0]/10)] # Min and max in y to search in slide_window()\n",
    "y_start_stop = [int(0.555*resize[1]), 10*int(resize[1]/10)] # Min and max in y to search in slide_window()\n",
    "search_scales = [32, 40]\n",
    "heat_threshold = 0.8\n",
    "frame_memory_length = 10"
   ]
  },
  {
   "cell_type": "markdown",
   "metadata": {},
   "source": [
    "## 2.1 Read in the data paths"
   ]
  },
  {
   "cell_type": "code",
   "execution_count": 9,
   "metadata": {
    "collapsed": false,
    "deletable": true,
    "editable": true
   },
   "outputs": [
    {
     "name": "stdout",
     "output_type": "stream",
     "text": [
      "8792\n",
      "8968\n"
     ]
    }
   ],
   "source": [
    "# Read in cars and notcars\n",
    "cars = []\n",
    "notcars = []\n",
    "\n",
    "images = glob.glob('./vehicles/*/*.png')\n",
    "for image in images:\n",
    "    cars.append(image) \n",
    "print(len(cars))\n",
    "\n",
    "images = glob.glob('./non-vehicles/*/*.png')\n",
    "for image in images:\n",
    "    notcars.append(image)\n",
    "print(len(notcars))\n",
    "\n",
    "cars_read = cars[0:sample_size]\n",
    "notcars_read = notcars[0:sample_size]\n",
    "## Both are approximately the same size => 8792 and 8968"
   ]
  },
  {
   "cell_type": "markdown",
   "metadata": {},
   "source": [
    "## 2.2 Create training features\n",
    "Here we are using the supplied car images and the vertically flipped car images as positive car examples.\n",
    "The supplied non-car images with all their possible rotations in addition to the vertically flipped images of cars with their mirror counterparts are part of the noncar training data. \n",
    "This results in an inbalance of car vs non-car examples of 1 : 3 (cars: 17584 not cars: 53456). This leads to a reduction of the false positives. It also doesn't seem to be worsening the performance of the model by increasing the number of false negatives."
   ]
  },
  {
   "cell_type": "code",
   "execution_count": 10,
   "metadata": {
    "collapsed": false,
    "deletable": true,
    "editable": true
   },
   "outputs": [
    {
     "data": {
      "image/png": "[encoded data removed]",
      "text/plain": [
       "<matplotlib.figure.Figure at 0xe9065de5f8>"
      ]
     },
     "metadata": {},
     "output_type": "display_data"
    },
    {
     "data": {
      "image/png": "[encoded data removed]",
      "text/plain": [
       "<matplotlib.figure.Figure at 0xe9067e0e80>"
      ]
     },
     "metadata": {},
     "output_type": "display_data"
    },
    {
     "data": {
      "image/png": "[encoded data removed]",
      "text/plain": [
       "<matplotlib.figure.Figure at 0xe9069a9198>"
      ]
     },
     "metadata": {},
     "output_type": "display_data"
    },
    {
     "data": {
      "image/png": "[encoded data removed]",
      "text/plain": [
       "<matplotlib.figure.Figure at 0xe902a31390>"
      ]
     },
     "metadata": {},
     "output_type": "display_data"
    },
    {
     "data": {
      "image/png": "[encoded data removed]",
      "text/plain": [
       "<matplotlib.figure.Figure at 0xe9067d9a58>"
      ]
     },
     "metadata": {},
     "output_type": "display_data"
    },
    {
     "data": {
      "image/png": "[encoded data removed]",
      "text/plain": [
       "<matplotlib.figure.Figure at 0xe9069d1c50>"
      ]
     },
     "metadata": {},
     "output_type": "display_data"
    },
    {
     "data": {
      "image/png": "[encoded data removed]",
      "text/plain": [
       "<matplotlib.figure.Figure at 0xe90205fcf8>"
      ]
     },
     "metadata": {},
     "output_type": "display_data"
    },
    {
     "data": {
      "image/png": "[encoded data removed]",
      "text/plain": [
       "<matplotlib.figure.Figure at 0xe9364ec5f8>"
      ]
     },
     "metadata": {},
     "output_type": "display_data"
    },
    {
     "name": "stdout",
     "output_type": "stream",
     "text": [
      "cars: 17584 not cars: 53456\n",
      "X shape: (71040, 1728)\n",
      "Features shape: (71040, 1728)\n"
     ]
    }
   ],
   "source": [
    "\n",
    "\n",
    "\n",
    "#y_start_stop = [None, None]\n",
    "\n",
    "car_features = extract_features(cars_read, color_space=color_space, resize=train_size,\n",
    "                        spatial_size=spatial_size, hist_bins=hist_bins, \n",
    "                        orient=orient, pix_per_cell=pix_per_cell, \n",
    "                        cell_per_block=cell_per_block, \n",
    "                        hog_channel=hog_channel, spatial_feat=spatial_feat, \n",
    "                        hist_feat=hist_feat, hog_feat=hog_feat, flip=None)\n",
    "car_features_flipped = extract_features(cars_read, color_space=color_space, resize=train_size,\n",
    "                        spatial_size=spatial_size, hist_bins=hist_bins, \n",
    "                        orient=orient, pix_per_cell=pix_per_cell, \n",
    "                        cell_per_block=cell_per_block, \n",
    "                        hog_channel=hog_channel, spatial_feat=spatial_feat, \n",
    "                        hist_feat=hist_feat, hog_feat=hog_feat, flip=1)\n",
    "notcar_features = extract_features(notcars_read, color_space=color_space,  resize=train_size,\n",
    "                        spatial_size=spatial_size, hist_bins=hist_bins, \n",
    "                        orient=orient, pix_per_cell=pix_per_cell, \n",
    "                        cell_per_block=cell_per_block, \n",
    "                        hog_channel=hog_channel, spatial_feat=spatial_feat, \n",
    "                        hist_feat=hist_feat, hog_feat=hog_feat, flip=None)\n",
    "notcar_features_flipped1 = extract_features(notcars_read, color_space=color_space, resize=train_size,\n",
    "                        spatial_size=spatial_size, hist_bins=hist_bins, \n",
    "                        orient=orient, pix_per_cell=pix_per_cell, \n",
    "                        cell_per_block=cell_per_block, \n",
    "                        hog_channel=hog_channel, spatial_feat=spatial_feat, \n",
    "                        hist_feat=hist_feat, hog_feat=hog_feat, flip=1)\n",
    "notcar_features_flipped0 = extract_features(notcars_read, color_space=color_space, resize=train_size,\n",
    "                        spatial_size=spatial_size, hist_bins=hist_bins, \n",
    "                        orient=orient, pix_per_cell=pix_per_cell, \n",
    "                        cell_per_block=cell_per_block, \n",
    "                        hog_channel=hog_channel, spatial_feat=spatial_feat, \n",
    "                        hist_feat=hist_feat, hog_feat=hog_feat, flip=0)\n",
    "notcar_features_flippedm1 = extract_features(notcars_read, color_space=color_space, resize=train_size,\n",
    "                        spatial_size=spatial_size, hist_bins=hist_bins, \n",
    "                        orient=orient, pix_per_cell=pix_per_cell, \n",
    "                        cell_per_block=cell_per_block, \n",
    "                        hog_channel=hog_channel, spatial_feat=spatial_feat, \n",
    "                        hist_feat=hist_feat, hog_feat=hog_feat, flip=-1)\n",
    "notcar_features_flipped_cars = extract_features(cars_read, color_space=color_space, resize=train_size,\n",
    "                        spatial_size=spatial_size, hist_bins=hist_bins, \n",
    "                        orient=orient, pix_per_cell=pix_per_cell, \n",
    "                        cell_per_block=cell_per_block, \n",
    "                        hog_channel=hog_channel, spatial_feat=spatial_feat, \n",
    "                        hist_feat=hist_feat, hog_feat=hog_feat, flip=0)\n",
    "notcar_features_flipped_cars2 = extract_features(cars_read, color_space=color_space, resize=train_size,\n",
    "                        spatial_size=spatial_size, hist_bins=hist_bins, \n",
    "                        orient=orient, pix_per_cell=pix_per_cell, \n",
    "                        cell_per_block=cell_per_block, \n",
    "                        hog_channel=hog_channel, spatial_feat=spatial_feat, \n",
    "                        hist_feat=hist_feat, hog_feat=hog_feat, flip=-1)\n",
    "\n",
    "print(\"cars:\", len(car_features) + len(car_features_flipped), \"not cars:\", len(notcar_features)\n",
    "      + len(notcar_features_flipped1) + len(notcar_features_flipped0) + len(notcar_features_flippedm1)\n",
    "      + len(notcar_features_flipped_cars) + len(notcar_features_flipped_cars2))\n",
    "\n",
    "#print(len(car_features[0]), len(notcar_features[0]))\n",
    "X = np.vstack((car_features, car_features_flipped, notcar_features\n",
    "               , notcar_features_flipped1, notcar_features_flipped0, notcar_features_flippedm1\n",
    "               , notcar_features_flipped_cars, notcar_features_flipped_cars2)).astype(np.float64)                        \n",
    "\n",
    "print(\"X shape:\", X.shape)\n",
    "# Fit a per-column scaler\n",
    "X_scaler = StandardScaler().fit(X)\n",
    "# Apply the scaler to X\n",
    "scaled_X = X_scaler.transform(X)\n",
    "print(\"Features shape:\", scaled_X.shape)\n",
    "\n"
   ]
  },
  {
   "cell_type": "code",
   "execution_count": null,
   "metadata": {
    "collapsed": false
   },
   "outputs": [
    {
     "name": "stdout",
     "output_type": "stream",
     "text": [
      "71040\n",
      "Using: 8 orientations 8 pixels per cell and 2 cells per block\n",
      "Feature vector length: 1728\n"
     ]
    }
   ],
   "source": [
    "# Define the labels vector\n",
    "y = np.concatenate((np.ones(len(car_features)), np.ones(len(car_features_flipped))\n",
    "                , np.zeros(len(notcar_features)), np.zeros(len(notcar_features_flipped1))\n",
    "                , np.zeros(len(notcar_features_flipped0)), np.zeros(len(notcar_features_flippedm1))\n",
    "                , np.zeros(len(notcar_features_flipped_cars)), np.zeros(len(notcar_features_flipped_cars2))))\n",
    "\n",
    "print(len(y))\n",
    "\n",
    "# Split up data into randomized training and test sets\n",
    "rand_state = np.random.randint(0, 100)\n",
    "X_train, X_test, y_train, y_test = train_test_split(\n",
    "    scaled_X, y, test_size=0.2, random_state=rand_state)\n",
    "\n",
    "print('Using:',orient,'orientations',pix_per_cell,\n",
    "    'pixels per cell and', cell_per_block,'cells per block')\n",
    "print('Feature vector length:', len(X_train[0]))"
   ]
  },
  {
   "cell_type": "markdown",
   "metadata": {},
   "source": [
    "## 3. Train the classifier\n",
    "\n",
    "976.49 Seconds to train SVC...\n",
    "Test Accuracy of SVC =  0.9881"
   ]
  },
  {
   "cell_type": "code",
   "execution_count": null,
   "metadata": {
    "collapsed": false
   },
   "outputs": [],
   "source": [
    "\n",
    "# Use a linear SVC \n",
    "#svc = LinearSVC()\n",
    "svc = svm.SVC(kernel='linear', C=svc_C)\n",
    "# Check the training time for the SVC\n",
    "t=time.time()\n",
    "svc.fit(X_train, y_train)\n",
    "t2 = time.time()\n",
    "print(round(t2-t, 2), 'Seconds to train SVC...')\n",
    "# Check the score of the SVC\n",
    "print('Test Accuracy of SVC = ', round(svc.score(X_test, y_test), 4))\n",
    "# Check the prediction time for a single sample\n",
    "t=time.time()"
   ]
  },
  {
   "cell_type": "code",
   "execution_count": null,
   "metadata": {
    "collapsed": true
   },
   "outputs": [],
   "source": [
    "from sklearn.externals import joblib\n",
    "joblib.dump(svc, 'svc_model.pkl') "
   ]
  },
  {
   "cell_type": "markdown",
   "metadata": {},
   "source": [
    "## 4. Test on single images"
   ]
  },
  {
   "cell_type": "code",
   "execution_count": 8,
   "metadata": {
    "collapsed": false,
    "deletable": true,
    "editable": true
   },
   "outputs": [
    {
     "ename": "NameError",
     "evalue": "name 'svc' is not defined",
     "output_type": "error",
     "traceback": [
      "\u001b[0;31m---------------------------------------------------------------------------\u001b[0m",
      "\u001b[0;31mNameError\u001b[0m                                 Traceback (most recent call last)",
      "\u001b[0;32m<ipython-input-8-3c9e1faa940d>\u001b[0m in \u001b[0;36m<module>\u001b[0;34m()\u001b[0m\n\u001b[1;32m      7\u001b[0m \u001b[1;33m\u001b[0m\u001b[0m\n\u001b[1;32m      8\u001b[0m \u001b[0mstart\u001b[0m \u001b[1;33m=\u001b[0m \u001b[0mtime\u001b[0m\u001b[1;33m.\u001b[0m\u001b[0mtime\u001b[0m\u001b[1;33m(\u001b[0m\u001b[1;33m)\u001b[0m\u001b[1;33m\u001b[0m\u001b[0m\n\u001b[0;32m----> 9\u001b[0;31m boxes, labels, windows, hot_windows = find_car_pipeline(image=image, color_space=color_space, svc=svc, X_scaler=X_scaler\n\u001b[0m\u001b[1;32m     10\u001b[0m               \u001b[1;33m,\u001b[0m \u001b[0mspatial_size\u001b[0m\u001b[1;33m=\u001b[0m\u001b[0mspatial_size\u001b[0m\u001b[1;33m,\u001b[0m \u001b[0mhist_bins\u001b[0m\u001b[1;33m=\u001b[0m\u001b[0mhist_bins\u001b[0m\u001b[1;33m,\u001b[0m \u001b[0morient\u001b[0m\u001b[1;33m=\u001b[0m\u001b[0morient\u001b[0m\u001b[1;33m,\u001b[0m \u001b[0mpix_per_cell\u001b[0m\u001b[1;33m=\u001b[0m\u001b[0mpix_per_cell\u001b[0m\u001b[1;33m,\u001b[0m \u001b[0mcell_per_block\u001b[0m\u001b[1;33m=\u001b[0m\u001b[0mcell_per_block\u001b[0m\u001b[1;33m,\u001b[0m \u001b[0mhog_channel\u001b[0m\u001b[1;33m=\u001b[0m\u001b[0mhog_channel\u001b[0m\u001b[1;33m\u001b[0m\u001b[0m\n\u001b[1;32m     11\u001b[0m               \u001b[1;33m,\u001b[0m \u001b[0mspatial_feat\u001b[0m\u001b[1;33m=\u001b[0m\u001b[0mspatial_feat\u001b[0m\u001b[1;33m,\u001b[0m \u001b[0mhist_feat\u001b[0m\u001b[1;33m=\u001b[0m\u001b[0mhist_feat\u001b[0m\u001b[1;33m,\u001b[0m \u001b[0mhog_feat\u001b[0m\u001b[1;33m=\u001b[0m\u001b[0mhog_feat\u001b[0m\u001b[1;33m\u001b[0m\u001b[0m\n",
      "\u001b[0;31mNameError\u001b[0m: name 'svc' is not defined"
     ]
    }
   ],
   "source": [
    "## test image pipeline\n",
    "try:\n",
    "    print(len(svc))\n",
    "except Exception as e:\n",
    "    from sklearn.externals import joblib\n",
    "    svc = joblib.load('filename.pkl') \n",
    "    \n",
    "image = cv2.imread('./test_images/test6.jpg')\n",
    "image = cv2.cvtColor(image, cv2.COLOR_BGR2RGB)\n",
    "\n",
    "single_image_search_scales = [32, 40]\n",
    "single_image_threshold = 0.8\n",
    "\n",
    "start = time.time()\n",
    "boxes, labels, windows, hot_windows = find_car_pipeline(image=image, color_space=color_space, svc=svc, X_scaler=X_scaler\n",
    "              , spatial_size=spatial_size, hist_bins=hist_bins, orient=orient, pix_per_cell=pix_per_cell, cell_per_block=cell_per_block, hog_channel=hog_channel\n",
    "              , spatial_feat=spatial_feat, hist_feat=hist_feat, hog_feat=hog_feat\n",
    "              , resize=resize, x_start_stop=x_start_stop, y_start_stop=y_start_stop\n",
    "              , search_scales=single_image_search_scales, xy_overlap=xy_overlap, train_image_size=train_size\n",
    "              , heat_threshold=single_image_threshold, windows=None, last_hot_windows=None)\n",
    "print(\"elapsed time:\", time.time() - start)\n",
    "\n",
    "plt.imshow(boxes)\n",
    "plt.show()"
   ]
  },
  {
   "cell_type": "markdown",
   "metadata": {},
   "source": [
    "## 5. Test on video"
   ]
  },
  {
   "cell_type": "code",
   "execution_count": 328,
   "metadata": {
    "collapsed": false,
    "deletable": true,
    "editable": true
   },
   "outputs": [
    {
     "name": "stdout",
     "output_type": "stream",
     "text": [
      "25.0\n",
      "0.0 1.1730349889985519 seconds\n",
      "0.1 138.191625370775 seconds\n",
      "0.2 268.5820555789396 seconds\n",
      "0.3 408.6877615497069 seconds\n",
      "0.4 550.5930970004702 seconds\n",
      "0.5 674.720799972376 seconds\n",
      "0.6 798.4095048505405 seconds\n",
      "0.7 922.0791999343201 seconds\n",
      "0.8 1047.2143762882188 seconds\n",
      "0.9 1168.4170141555223 seconds\n"
     ]
    }
   ],
   "source": [
    "frame_memory_length = 10\n",
    "video_threshold = 0.8\n",
    "video_scales = [32, 40]\n",
    "\n",
    "record_video(\"./project_video.mp4\", \"./output.avi\"\n",
    "        , color_space=color_space, svc=svc, X_scaler=X_scaler\n",
    "        , spatial_size=spatial_size, hist_bins=hist_bins, orient=orient, pix_per_cell=pix_per_cell, cell_per_block=cell_per_block, hog_channel=hog_channel\n",
    "        , spatial_feat=spatial_feat, hist_feat=hist_feat, hog_feat=hog_feat\n",
    "        , resize=resize, x_start_stop=x_start_stop, y_start_stop=y_start_stop\n",
    "        , search_scales=search_scales, xy_overlap=xy_overlap, train_image_size=train_size\n",
    "        , heat_threshold=heat_threshold, frame_memory_length=frame_memory_length)"
   ]
  },
  {
   "cell_type": "code",
   "execution_count": 329,
   "metadata": {
    "collapsed": false,
    "deletable": true,
    "editable": true
   },
   "outputs": [
    {
     "name": "stdout",
     "output_type": "stream",
     "text": [
      "[MoviePy] >>>> Building video ./project_output2.mp4\n",
      "[MoviePy] Writing video ./project_output2.mp4\n"
     ]
    },
    {
     "name": "stderr",
     "output_type": "stream",
     "text": [
      "100%|█████████████████████████████████████████████████████████▉| 1253/1254 [00:29<00:00, 42.33it/s]\n"
     ]
    },
    {
     "name": "stdout",
     "output_type": "stream",
     "text": [
      "[MoviePy] Done.\n",
      "[MoviePy] >>>> Video ready: ./project_output2.mp4 \n",
      "\n"
     ]
    }
   ],
   "source": [
    "from moviepy.editor import VideoFileClip\n",
    "myclip = VideoFileClip(\"./output.avi\")\n",
    "myclip.write_videofile((\"./project_output2.mp4\"), audio=False)"
   ]
  },
  {
   "cell_type": "code",
   "execution_count": null,
   "metadata": {
    "collapsed": true
   },
   "outputs": [],
   "source": []
  },
  {
   "cell_type": "code",
   "execution_count": null,
   "metadata": {
    "collapsed": true
   },
   "outputs": [],
   "source": []
  },
  {
   "cell_type": "code",
   "execution_count": null,
   "metadata": {
    "collapsed": true
   },
   "outputs": [],
   "source": []
  }
 ],
 "metadata": {
  "kernelspec": {
   "display_name": "Python 3",
   "language": "python",
   "name": "python3"
  },
  "language_info": {
   "codemirror_mode": {
    "name": "ipython",
    "version": 3
   },
   "file_extension": ".py",
   "mimetype": "text/x-python",
   "name": "python",
   "nbconvert_exporter": "python",
   "pygments_lexer": "ipython3",
   "version": "3.6.3"
  }
 },
 "nbformat": 4,
 "nbformat_minor": 2
}
